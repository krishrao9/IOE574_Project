{
 "cells": [
  {
   "cell_type": "markdown",
   "id": "a764fe5c",
   "metadata": {},
   "source": [
    "## Variables\n",
    "#### Buses\n",
    "* bus: ($ch_n, st_n, r_{n,m}, tb_{n,m}, sb_{n,m}$)\n",
    "    * $ch_n$ - charging state of bus n\n",
    "    * $st_n$ - state of bus n (3 states: deployed, not-deployed, charging/refueling)\n",
    "    * $r_{n,m}$ - the route on which the bus is deployed\n",
    "    * $tb_{n,m}$ - the previous stop the bus travelled to (travel time)\n",
    "    * $sb_{n,m}$ - the previous stop which was served by the bus (service time)\n",
    "        * If $tb_n$= $sb_n$, generate travel time for $tb_{n+1}$; $tb_n$ = $tb_{n+1}$ if accepted\n",
    "        * Else if $tb_n$> $sb_n$, generate service time for $sb_{n+1}$; $sb_n$ = $sb_{n+1}$ if accepted\n",
    "    * Arrival time - route generated arrays\n",
    "    * Service Time - route generated arrays"
   ]
  },
  {
   "cell_type": "markdown",
   "id": "6b52600c",
   "metadata": {},
   "source": [
    "___\n",
    "### System State New\n",
    "SS = (n_buses, curr_dem, buses_deployed, buses_recharge, buses_standstill)\n",
    "SS = (n_buses, curr_dem, buses_deployed, buses_recharge, buses_standstill, route_1_buses, route_2_buses,....)\n",
    "\n",
    "#### Monitoring System State \n",
    "\n",
    "| Time | System State | Bus | Charge | Route | State | Event | Process Time | Demand-Current | Demand-Actual | Demand-Charge |\n",
    "| ---- | ------------ | --- | ------ | ----- | ----- | ----- | ------------ | -------------- | ------------- | ------------- |\n",
    "| 0    | (1,1,1,0,0)  | 1   | 50     | '1'   | 1     | 0     | 0            | 0              | 0             | 15            |\n",
    "| 10.3 | (1,0,1,0,0)  | 1   | 48     | '1'   | 1     | 1     | 10.3         | -              | -             | -             |\n",
    "| 12.3 | (1,0,1,0,0)  | 1   | 47.5   | '1'   | 1     | 0     | 2.0          | -              | -             | -             |\n",
    "\n",
    "___\n",
    "\n",
    "#### Monitoring Bus Deployments\n",
    "\n",
    "| Time | Demand-Current | Demand-Actual | Demand-Charge | Bus | Charge | Route | Event Array  | Time Array   |\n",
    "| ---- | -------------- | ------------- | ------------- | --- | ------ | ----- | ------------ | ------------ |\n",
    "| 0    | 0              | 0             | 15            | 1   | 50     | '1'   | [1, 0, 1]    | [12, 35, 41] |\n",
    "| 40   | 41             | 40            | 20            | 1   | 35     | '2'   | [1, 0, 1]    | [48, 50, 55] |\n",
    "\n"
   ]
  },
  {
   "cell_type": "code",
   "execution_count": 1,
   "id": "1c83e8f4",
   "metadata": {},
   "outputs": [],
   "source": [
    "import pandas as pd\n",
    "import numpy as np\n",
    "import numpy.random as random\n",
    "from route_functions import *\n",
    "import matplotlib.pyplot as plt\n",
    "import scipy.stats as st\n",
    "import statsmodels.api as sm \n",
    "\n",
    "# to ignore warning on calculations\n",
    "import warnings\n",
    "warnings.filterwarnings(\"ignore\")"
   ]
  },
  {
   "cell_type": "code",
   "execution_count": 2,
   "id": "4f60821c",
   "metadata": {},
   "outputs": [],
   "source": [
    "# intializing route table\n",
    "routes = pd.read_excel('Model_Parameters.xlsx', 'Routes')\n",
    "\n",
    "n_buses = 10                            # number of buses\n",
    "\n",
    "# For liquid fuel buses\n",
    "running_consumption = 0.071             # fuel(lts.)/kWh per minute\n",
    "service_consumption = 0.061             # fuel(lts.)/kWh per minute\n",
    "refuel_consumption = -30                # -30 for fuel, -2 for electric\n",
    "tank_size = 150                         # 150 lts. / 240 kWh \n",
    "level_mean = 60                         # normal distribution.. can be changed\n",
    "level_std = 0                           # currently constant at level_mean\n",
    "refuel = 'refill'                       # 'refill', recharge'\n",
    "\n",
    "'''\n",
    "# For electric buses\n",
    "running_consumption = _____             # fuel(lts.)/kWh per minute\n",
    "service_consumption = _____             # fuel(lts.)/kWh per minute\n",
    "refuel_consumption = -2                 # -30 for fuel, -2 for electric\n",
    "tank_size = 240                         # 150 lts. / 240 kWh \n",
    "level_mean = 40                         # normal distribution.. can be changed\n",
    "level_std = 0                           # currently constant at level_mean\n",
    "refuel = 'recharge'                     # 'refill', recharge'\n",
    "'''\n",
    "\n",
    "#-----\n",
    "# customizable parameters\n",
    "#average_bus_speed = 30 miles /hr\n",
    "refuel_stations = 2\n",
    "conversion_factor = 100/tank_size\n",
    "\n",
    "# cost rates\n",
    "emp_rate = 15                           # per hour basis\n",
    "fuel_rate = 0.882                       # dollar 0.882 per lt. / 0.1275 per kWhr\n",
    "delay_rate = 2.4                        # dollar per min ** reason\n",
    "maintain_rate = 1.67                    # dollar per min 1.67 for fuel, 2.25 for elctric\n",
    "\n",
    "\n",
    "# setting up initial values for simulation\n",
    "n_routes = 4                            # number of routes\n",
    "SimTime = 720\n",
    "\n",
    "SS_cols = ['Time', 'System_State', 'Bus', 'Charge', 'Route', \n",
    "           'State', 'Event', 'Process_Time', 'Demand_Current', \n",
    "           'Demand_Actual', 'Demand_Charge']\n",
    "BD_cols = ['Time', 'Demand_Current', 'Demand_Actual', 'Demand_Charge', \n",
    "           'Bus', 'Charge', 'Route', 'Event_Array', 'Time_Array']"
   ]
  },
  {
   "cell_type": "code",
   "execution_count": 3,
   "id": "15d64465",
   "metadata": {
    "scrolled": true
   },
   "outputs": [
    {
     "name": "stdout",
     "output_type": "stream",
     "text": [
      "-----\n",
      "Running buses on Day  1\n",
      "-----\n",
      "Running buses on Day  2\n",
      "-----\n",
      "Running buses on Day  3\n",
      "Stuck in a loop!\n",
      "Updating next bus event\n",
      "\tTime - 660.32\n",
      "\tTime Check - 660.32\n",
      "\tDemands - [660.32, 675.0, 680.0, 680.0, 690.0, 700.0] [660.0, 675.0, 680.0, 680.0, 690.0, 700.0] ['4', '1', '2', '4', '1', '2'] [25.0, 25.0, 25.0, 25.0, 25.0, 25.0]\n",
      "\tdct_flag - 1\n",
      "-----\n",
      "Running buses on Day  4\n",
      "-----\n",
      "Running buses on Day  5\n",
      "-----\n",
      "Running buses on Day  6\n",
      "-----\n",
      "Running buses on Day  7\n",
      "-----\n",
      "Running buses on Day  8\n",
      "-----\n",
      "Running buses on Day  9\n",
      "-----\n",
      "Running buses on Day  10\n",
      "-----\n",
      "Running buses on Day  11\n",
      "-----\n",
      "Running buses on Day  12\n",
      "-----\n",
      "Running buses on Day  13\n",
      "-----\n",
      "Running buses on Day  14\n",
      "-----\n",
      "Running buses on Day  15\n",
      "Stuck in a loop!\n",
      "Updating next bus event\n",
      "\tTime - 240.0\n",
      "\tTime Check - 240.0\n",
      "\tDemands - [255.0, 255.0, 270.0, 270.0, 270.0, 285.0] [255.0, 255.0, 270.0, 270.0, 270.0, 285.0] ['1', '3', '1', '2', '3', '1'] [25.0, 25.0, 25.0, 25.0, 25.0, 25.0]\n",
      "\tdct_flag - 0\n",
      "-----\n",
      "Running buses on Day  16\n",
      "-----\n",
      "Running buses on Day  17\n",
      "-----\n",
      "Running buses on Day  18\n",
      "-----\n",
      "Running buses on Day  19\n",
      "-----\n",
      "Running buses on Day  20\n",
      "-----\n",
      "Running buses on Day  21\n",
      "-----\n",
      "Running buses on Day  22\n",
      "-----\n",
      "Running buses on Day  23\n",
      "-----\n",
      "Running buses on Day  24\n",
      "-----\n",
      "Running buses on Day  25\n",
      "Stuck in a loop!\n",
      "Updating next bus event\n",
      "\tTime - 587.03\n",
      "\tTime Check - 587.03\n",
      "\tDemands - [587.03, 600.0, 600.0, 600.0, 600.0, 615.0] [585.0, 600.0, 600.0, 600.0, 600.0, 615.0] ['1', '1', '2', '3', '4', '1'] [25.0, 25.0, 25.0, 25.0, 25.0, 25.0]\n",
      "\tdct_flag - 1\n",
      "-----\n",
      "Running buses on Day  26\n",
      "Stuck in a loop!\n",
      "Updating next bus event\n",
      "\tTime - 377.9\n",
      "\tTime Check - 377.9\n",
      "\tDemands - [380.0, 390.0, 390.0, 390.0, 400.0, 405.0] [380.0, 390.0, 390.0, 390.0, 400.0, 405.0] ['2', '1', '3', '4', '2', '1'] [25.0, 25.0, 25.0, 25.0, 25.0, 25.0]\n",
      "\tdct_flag - 0\n",
      "Stuck in a loop!\n",
      "Deploying Bus\n",
      "\tTime - 505.15\n",
      "\tTime Check - 505.15\n",
      "\tDemands - [510.0, 510.0, 520.0, 520.0, 525.0, 525.0] [510.0, 510.0, 520.0, 520.0, 525.0, 525.0] ['1', '3', '2', '4', '1', '3'] [25.0, 25.0, 25.0, 25.0, 25.0, 25.0]\n",
      "\tdct_flag - 0\n",
      "-----\n",
      "Running buses on Day  27\n",
      "-----\n",
      "Running buses on Day  28\n",
      "-----\n",
      "Running buses on Day  29\n",
      "Stuck in a loop!\n",
      "Updating next bus event\n",
      "\tTime - 360.0\n",
      "\tTime Check - 360.0\n",
      "\tDemands - [375.0, 375.0, 380.0, 390.0, 390.0, 390.0] [375.0, 375.0, 380.0, 390.0, 390.0, 390.0] ['1', '3', '2', '1', '3', '4'] [25.0, 25.0, 25.0, 25.0, 25.0, 25.0]\n",
      "\tdct_flag - 0\n",
      "-----\n",
      "Running buses on Day  30\n"
     ]
    }
   ],
   "source": [
    "replicates = 30\n",
    "ss_table = pd.DataFrame(columns=SS_cols+['Replication'])\n",
    "bd_table = pd.DataFrame(columns=BD_cols+['Replication'])\n",
    "\n",
    "for i in range(replicates):\n",
    "    print('-----\\nRunning buses on Day ', i+1)                     # intializing required variabes\n",
    "    buses = [bus(level_mean, level_std) for i in range(n_buses)]   # fleet of buses\n",
    "    t = 0                                                          # start time of simulation\n",
    "    T = SimTime\n",
    "    demand_at, demand_r, demand_c = gen_demands(n_routes, T)       # updating demands\n",
    "    demand_ct = demand_at.copy()                                   # demand current time and demand actual time\n",
    "    dct_flag = 0                                                   # demand at current time\n",
    "    ss_tab, bd_tab = fleet_simulation(t, T, routes, buses, refuel, running_consumption, \n",
    "                                      service_consumption, refuel_stations, refuel_consumption, conversion_factor,\n",
    "                                      demand_at, demand_ct, demand_r, demand_c, dct_flag, SS_cols, BD_cols)\n",
    "    ss_tab['Replication'] = i+1\n",
    "    bd_tab['Replication'] = i+1\n",
    "    ss_table = ss_table.append(ss_tab, ignore_index=True)\n",
    "    bd_table = bd_table.append(bd_tab, ignore_index=True)"
   ]
  },
  {
   "cell_type": "markdown",
   "id": "8c311e0c",
   "metadata": {},
   "source": [
    "ss_table"
   ]
  },
  {
   "cell_type": "markdown",
   "id": "c727a1be",
   "metadata": {},
   "source": [
    "bd_table"
   ]
  },
  {
   "cell_type": "markdown",
   "id": "83843622",
   "metadata": {},
   "source": [
    "___\n",
    "## Converging the model on delays\n"
   ]
  },
  {
   "cell_type": "code",
   "execution_count": 4,
   "id": "c6ed5c94",
   "metadata": {},
   "outputs": [
    {
     "name": "stdout",
     "output_type": "stream",
     "text": [
      "---\n",
      "Current half-width -  0.682 min\n",
      "Current replications - 30\n",
      "Number of bus deployments - 3870\n"
     ]
    }
   ],
   "source": [
    "# delay analysis on deployments\n",
    "num_delay = sum(np.array(bd_table['Demand_Current'] - bd_table['Demand_Actual'])>0)\n",
    "total_delay = sum(np.nan_to_num(np.array(bd_table['Demand_Current'] - bd_table['Demand_Actual'])))\n",
    "avg_delay = round(np.mean(np.nan_to_num(np.array(bd_table['Demand_Current'] - bd_table['Demand_Actual']))), 3)\n",
    "std_delay = round(np.std(np.nan_to_num(np.array(bd_table['Demand_Current'] - bd_table['Demand_Actual']))), 3)\n",
    "max_delay = max(np.nan_to_num(np.array(bd_table['Demand_Current'] - bd_table['Demand_Actual'])))\n",
    "\n",
    "# cost analysis\n",
    "run_time, ser_time, ref_time, emp_cost, fuel_cost, delay_cost = cost_analysis(n_buses, replicates, refuel, ss_table, \n",
    "                                                                              bd_table, emp_rate, fuel_rate, delay_rate, \n",
    "                                                                              refuel_consumption)\n",
    "\n",
    "# convergence on delays\n",
    "beta = 1.5\n",
    "alpha = 0.05\n",
    "ci_n = 1-alpha/2    \n",
    "n_beta = (st.t.ppf(ci_n, df=replicates-1)*std_delay\n",
    "          /np.sqrt(replicates))\n",
    "\n",
    "print('---\\nCurrent half-width - ', round(n_beta, 3), 'min')\n",
    "print('Current replications -', replicates)\n",
    "print('Number of bus deployments -', bd_table.shape[0])\n",
    "\n",
    "while n_beta > beta:\n",
    "    s2_n =  (std_delay)**2\n",
    "    t = st.t.ppf(ci_n, df=replicates-1)\n",
    "    n_rep = int((t*np.sqrt(s2_n)/beta)**2) + 1\n",
    "    n_rep = int(n_rep*replicates/replicates) + 1\n",
    "    print('The extra replications to be done - ', n_rep-replicates)\n",
    "    \n",
    "    for h in range(replicates, n_rep):\n",
    "        print('-----\\nRunning buses on Day ', h+1)                      # intializing required variabes\n",
    "        buses = [bus(level_mean, level_std) for i in range(n_buses)]   # fleet of buses\n",
    "        t = 0                                                          # start time of simulation\n",
    "        T = SimTime\n",
    "        demand_at, demand_r, demand_c = gen_demands(n_routes, T)     # updating demands\n",
    "        demand_ct = demand_at.copy()                                 # demand current time and demand actual time\n",
    "        dct_flag = 0                                                 # demand at current time\n",
    "        ss_tab, bd_tab = fleet_simulation(t, T, routes, buses, refuel, running_consumption, \n",
    "                                          service_consumption, refuel_stations, refuel_consumption, conversion_factor,\n",
    "                                          demand_at, demand_ct, demand_r, demand_c, dct_flag, SS_cols, BD_cols)\n",
    "        ss_tab['Replication'] = h + 1\n",
    "        bd_tab['Replication'] = h + 1\n",
    "        ss_table = ss_table.append(ss_tab, ignore_index=True)\n",
    "        bd_table = bd_table.append(bd_tab, ignore_index=True)\n",
    "        \n",
    "    replicates = n_rep\n",
    "    n_beta = (st.t.ppf(ci_n, df=replicates-1)*std_delay/np.sqrt(replicates))\n",
    "    print('---\\nThe new half-width', round(n_beta, 3), 'min')\n",
    "    print('Current replications -', replicates)\n",
    "    print('Number of bus deployments -', bd_table.shape[0])"
   ]
  },
  {
   "cell_type": "markdown",
   "id": "3c480d6b",
   "metadata": {},
   "source": [
    "___\n",
    "## Model Analysis"
   ]
  },
  {
   "cell_type": "code",
   "execution_count": 5,
   "id": "bc94589a",
   "metadata": {},
   "outputs": [
    {
     "name": "stdout",
     "output_type": "stream",
     "text": [
      "Delay Analyis\n",
      "\tTotal number of replications (days) - 30\n",
      "\tTotal number of delays - 901\n",
      "\tTotal delay in minutes - 3005.3\n",
      "\tAverage of delay events in minutes - 3.34\n",
      "\n",
      "\tAverage delay (all events) in minutes - 0.78\n",
      "\tStd. Deviation of delay (all events) in minutes - 1.83\n",
      "\tMaximum delay (all events) in minutes - 14.21\n",
      "\n",
      "\tTotal number of deployments - 3870\n",
      "\tTotal number of route deployments - 3870\n",
      "\tTotal number of refills deployments - 0\n",
      "\n",
      "\n",
      "Cost Analysis\n",
      "\tAverage running time for all buses per day in minutes - 4126.96\n",
      "\tAverage service time for all buses per day in minutes - 1513.22\n",
      "\tAverage refuel time for all buses per day in minutes - 0.0\n",
      "\n",
      "\tAverage employeee costs paid per day in dollars - 1410\n",
      "\tAverage fuel costs paid per day in dollars - 0\n",
      "\tAverage delay costs paid per day in dollars - 7213\n",
      "\tAverage maintenance costs paid per day in dollars - 9419.1006\n"
     ]
    }
   ],
   "source": [
    "# delay analysis on deployments\n",
    "num_delay = sum(np.array(bd_table['Demand_Current'] - bd_table['Demand_Actual'])>0)\n",
    "total_delay = sum(np.nan_to_num(np.array(bd_table['Demand_Current'] - bd_table['Demand_Actual'])))\n",
    "avg_delay = round(np.mean(np.nan_to_num(np.array(bd_table['Demand_Current'] - bd_table['Demand_Actual']))), 3)\n",
    "std_delay = round(np.std(np.nan_to_num(np.array(bd_table['Demand_Current'] - bd_table['Demand_Actual']))), 3)\n",
    "max_delay = max(np.nan_to_num(np.array(bd_table['Demand_Current'] - bd_table['Demand_Actual'])))\n",
    "\n",
    "# cost analysis\n",
    "run_time, ser_time, ref_time, emp_cost, fuel_cost, delay_cost = cost_analysis(n_buses, replicates, refuel, ss_table, \n",
    "                                                                              bd_table, emp_rate, fuel_rate, delay_rate, \n",
    "                                                                              refuel_consumption)\n",
    "\n",
    "print('Delay Analyis')\n",
    "print('\\tTotal number of replications (days) -', replicates)\n",
    "print('\\tTotal number of delays -', num_delay)\n",
    "print('\\tTotal delay in minutes -', round(total_delay, 2))\n",
    "print('\\tAverage of delay events in minutes -', round(total_delay/num_delay, 2))\n",
    "\n",
    "print('\\n\\tAverage delay (all events) in minutes -', round(avg_delay, 2))\n",
    "print('\\tStd. Deviation of delay (all events) in minutes -', round(std_delay, 2))\n",
    "print('\\tMaximum delay (all events) in minutes -', round(max_delay, 2))\n",
    "\n",
    "\n",
    "print('\\n\\tTotal number of deployments -', bd_table.shape[0])\n",
    "print('\\tTotal number of route deployments -', sum(bd_table['Route']!=refuel))\n",
    "print('\\tTotal number of refills deployments -', sum(bd_table['Route']==refuel))\n",
    "\n",
    "print('\\n\\nCost Analysis')\n",
    "print('\\tAverage running time for all buses per day in minutes -', run_time)\n",
    "print('\\tAverage service time for all buses per day in minutes -', ser_time)\n",
    "print('\\tAverage refuel time for all buses per day in minutes -', ref_time)\n",
    "\n",
    "print('\\n\\tAverage employeee costs paid per day in dollars -', emp_cost)\n",
    "print('\\tAverage fuel costs paid per day in dollars -', fuel_cost)\n",
    "print('\\tAverage delay costs paid per day in dollars -', delay_cost)\n",
    "print('\\tAverage maintenance costs paid per day in dollars -', maintain_rate*(run_time+ser_time+ref_time))"
   ]
  },
  {
   "cell_type": "code",
   "execution_count": 6,
   "id": "e66dadfd",
   "metadata": {},
   "outputs": [
    {
     "data": {
      "text/plain": [
       "(31.96267999999999, 60.0)"
      ]
     },
     "execution_count": 6,
     "metadata": {},
     "output_type": "execute_result"
    }
   ],
   "source": [
    "# Charge distribution\n",
    "ss_table['Charge'].min(), ss_table['Charge'].max()"
   ]
  },
  {
   "cell_type": "code",
   "execution_count": 7,
   "id": "8fe5fd07",
   "metadata": {},
   "outputs": [
    {
     "data": {
      "image/png": "[encoded data removed]",
      "text/plain": [
       "<Figure size 432x288 with 1 Axes>"
      ]
     },
     "metadata": {
      "needs_background": "light"
     },
     "output_type": "display_data"
    },
    {
     "data": {
      "image/png": "[encoded data removed]",
      "text/plain": [
       "<Figure size 432x288 with 1 Axes>"
      ]
     },
     "metadata": {
      "needs_background": "light"
     },
     "output_type": "display_data"
    }
   ],
   "source": [
    "delay_arr = np.array(bd_table['Demand_Current'] - bd_table['Demand_Actual'])\n",
    "ecdf(delay_arr, 'Delay (min)')\n",
    "inv_ecdf(delay_arr, 'Delay (min)')"
   ]
  },
  {
   "cell_type": "code",
   "execution_count": 8,
   "id": "308be32e",
   "metadata": {},
   "outputs": [],
   "source": [
    "path = r\"C:\\Users\\krishrao\\Desktop\\Laptop Backup\\Krishna\\Fall'21\\IOE 574\\Term Project\\IOE574_Project\\data_files\\LiqFuel_SensAnalysis\\\\\"\n",
    "ss_table.to_parquet(path+'ss_table_'+refuel+'_'+np.str(n_buses)+'_'+\n",
    "                    np.str(level_mean)+'_'+np.str(running_consumption)+'_'+\n",
    "                    np.str(service_consumption)+'.parquet')\n",
    "bd_table.to_parquet(path+'bd_table_'+refuel+'_'+np.str(n_buses)+'_'+\n",
    "                    np.str(level_mean)+'_'+np.str(running_consumption)+'_'+\n",
    "                    np.str(service_consumption)+'.parquet')"
   ]
  },
  {
   "cell_type": "markdown",
   "id": "0d86cc3e",
   "metadata": {},
   "source": [
    "___\n",
    "## Testing Area"
   ]
  },
  {
   "cell_type": "markdown",
   "id": "f270fd58",
   "metadata": {},
   "source": [
    "#### Testing for route demands"
   ]
  },
  {
   "cell_type": "code",
   "execution_count": 9,
   "id": "b88f3464",
   "metadata": {},
   "outputs": [
    {
     "data": {
      "image/png": "[encoded data removed]",
      "text/plain": [
       "<Figure size 432x288 with 1 Axes>"
      ]
     },
     "metadata": {
      "needs_background": "light"
     },
     "output_type": "display_data"
    }
   ],
   "source": [
    "# route demand functions\n",
    "array_t = np.array(range(0, 12*60+1, 60))\n",
    "\n",
    "# https://ltp.umich.edu/wp-content/uploads/bursley_baits.pdf\n",
    "a, b, c, d = 0, 4, 0, 1\n",
    "plt.plot(array_t, np.ceil(a*np.sin((array_t+c)/d) + b), \n",
    "         color='r', label='bus_1', marker='o')\n",
    "\n",
    "# https://ltp.umich.edu/wp-content/uploads/northwood.pdf\n",
    "a, b, c, d = 1.5, 1.5, -180, 180\n",
    "plt.plot(array_t, np.ceil(a*np.sin((array_t+c)/d) + b), \n",
    "         color='b', label='bus_2', marker='o')\n",
    "\n",
    "# https://ltp.umich.edu/wp-content/uploads/diag_diag.pdf\n",
    "a, b, c, d = 3, 1, -60, 180\n",
    "plt.plot(array_t, np.ceil(a*np.sin((array_t+c)/d) + b), \n",
    "         color='g', label='bus_3', marker='o')\n",
    "\n",
    "# https://ltp.umich.edu/wp-content/uploads/oxford_shuttle.pdf\n",
    "a, b, c, d = 2, 1, -320, 180\n",
    "plt.plot(array_t, np.ceil(a*np.sin((array_t+c)/d) + b), \n",
    "         color='black', label='bus_4', marker='o')\n",
    "\n",
    "plt.xlabel('Time')\n",
    "plt.ylabel('Buses')\n",
    "plt.legend()\n",
    "plt.show()"
   ]
  }
 ],
 "metadata": {
  "kernelspec": {
   "display_name": "Python 3 (ipykernel)",
   "language": "python",
   "name": "python3"
  },
  "language_info": {
   "codemirror_mode": {
    "name": "ipython",
    "version": 3
   },
   "file_extension": ".py",
   "mimetype": "text/x-python",
   "name": "python",
   "nbconvert_exporter": "python",
   "pygments_lexer": "ipython3",
   "version": "3.8.12"
  }
 },
 "nbformat": 4,
 "nbformat_minor": 5
}
