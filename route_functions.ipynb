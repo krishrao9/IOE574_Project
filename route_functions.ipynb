{
 "cells": [
  {
   "cell_type": "code",
   "execution_count": null,
   "id": "940ae008",
   "metadata": {},
   "outputs": [],
   "source": [
    "import pandas as pd\n",
    "import numpy as  np\n",
    "import string as str\n",
    "import numpy.random as random"
   ]
  },
  {
   "cell_type": "code",
   "execution_count": null,
   "id": "b0691733",
   "metadata": {},
   "outputs": [],
   "source": [
    "def route_time(routes, route_c, t):\n",
    "    time_ar = []\n",
    "    if route_c.isnumeric():\n",
    "        search_r = 'route_' + route_c\n",
    "    else:\n",
    "        search_r = route_c\n",
    "    sm_data = routes[routes.columns[routes.columns.str.match(search_r)]]\n",
    "    sm_data.dropna(inplace=True)\n",
    "    for i in range(sm_data.shape[0]):\n",
    "        if sm_data[search_r+'_index'][i]==0:\n",
    "            t_arr = random.gamma(sm_data[search_r+'_mean'][i], sm_data[search_r+'_std'][i])\n",
    "            t = t + t_arr\n",
    "        elif sm_data[search_r+'_index'][i]==1:\n",
    "            t_ser = random.gamma(sm_data[search_r+'_mean'][i], sm_data[search_r+'_std'][i])\n",
    "            t = t + t_ser\n",
    "        time_ar.append(round(t, 4))\n",
    "    stops = np.array(sm_data[search_r+'_index'])\n",
    "    return time_ar, stops"
   ]
  },
  {
   "cell_type": "code",
   "execution_count": null,
   "id": "515fafa8",
   "metadata": {},
   "outputs": [],
   "source": [
    "class bus:\n",
    "    def __init__(self):\n",
    "        self.charge = random\n",
    "        self.state = -1      # deployed = 1, refill = 0, standstill = -1\n",
    "        self.route = None    # route in string, eg. '1', 'refill', 'recharge' \n",
    "        self.time_arr = []   # array containing travel or stop service times for the bus\n",
    "        self.event_arr = []   # array to denote travel or stop service state\n",
    "        \n",
    "    def assign_route(self, route_t, route_c, t):\n",
    "        self.time_arr, self.event_arr = route_time(route_t, route_c, t)\n",
    "    \n",
    "    def next_t(self):\n",
    "        return self.time_arr[0]\n",
    "    def next_e(self):\n",
    "        return self.event_arr[0]"
   ]
  }
 ],
 "metadata": {
  "jupytext": {
   "formats": "ipynb,py:light"
  },
  "kernelspec": {
   "display_name": "Python 3 (ipykernel)",
   "language": "python",
   "name": "python3"
  },
  "language_info": {
   "codemirror_mode": {
    "name": "ipython",
    "version": 3
   },
   "file_extension": ".py",
   "mimetype": "text/x-python",
   "name": "python",
   "nbconvert_exporter": "python",
   "pygments_lexer": "ipython3",
   "version": "3.8.12"
  }
 },
 "nbformat": 4,
 "nbformat_minor": 5
}
